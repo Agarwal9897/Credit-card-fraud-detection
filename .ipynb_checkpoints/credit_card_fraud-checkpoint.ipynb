{
 "cells": [
  {
   "cell_type": "code",
   "execution_count": 2,
   "metadata": {},
   "outputs": [],
   "source": [
    "#Importing all the Libraries For original_data analysis and Graphs\n",
    "import numpy as np\n",
    "import pandas as pd\n",
    "import seaborn as sns\n",
    "import matplotlib.pyplot as plt"
   ]
  },
  {
   "cell_type": "code",
   "execution_count": 3,
   "metadata": {},
   "outputs": [],
   "source": [
    "#Storing the Dataset into Pandas Dataframe\n",
    "original_data = pd.read_csv(\"credit_card_test.csv\")"
   ]
  },
  {
   "cell_type": "code",
   "execution_count": 4,
   "metadata": {},
   "outputs": [
    {
     "data": {
      "text/html": [
       "<div>\n",
       "<style scoped>\n",
       "    .dataframe tbody tr th:only-of-type {\n",
       "        vertical-align: middle;\n",
       "    }\n",
       "\n",
       "    .dataframe tbody tr th {\n",
       "        vertical-align: top;\n",
       "    }\n",
       "\n",
       "    .dataframe thead th {\n",
       "        text-align: right;\n",
       "    }\n",
       "</style>\n",
       "<table border=\"1\" class=\"dataframe\">\n",
       "  <thead>\n",
       "    <tr style=\"text-align: right;\">\n",
       "      <th></th>\n",
       "      <th>avg_amount_days</th>\n",
       "      <th>transaction_amount</th>\n",
       "      <th>daily_chbk_avg_amt</th>\n",
       "      <th>avg_chbk_amt</th>\n",
       "      <th>chbk_freq</th>\n",
       "      <th>is_fradulent</th>\n",
       "    </tr>\n",
       "  </thead>\n",
       "  <tbody>\n",
       "    <tr>\n",
       "      <th>0</th>\n",
       "      <td>100.0</td>\n",
       "      <td>3000.0</td>\n",
       "      <td>0</td>\n",
       "      <td>0.0</td>\n",
       "      <td>0</td>\n",
       "      <td>1</td>\n",
       "    </tr>\n",
       "    <tr>\n",
       "      <th>1</th>\n",
       "      <td>100.0</td>\n",
       "      <td>4300.0</td>\n",
       "      <td>0</td>\n",
       "      <td>0.0</td>\n",
       "      <td>0</td>\n",
       "      <td>1</td>\n",
       "    </tr>\n",
       "    <tr>\n",
       "      <th>2</th>\n",
       "      <td>185.5</td>\n",
       "      <td>4823.0</td>\n",
       "      <td>0</td>\n",
       "      <td>0.0</td>\n",
       "      <td>0</td>\n",
       "      <td>1</td>\n",
       "    </tr>\n",
       "    <tr>\n",
       "      <th>3</th>\n",
       "      <td>185.5</td>\n",
       "      <td>5008.5</td>\n",
       "      <td>0</td>\n",
       "      <td>0.0</td>\n",
       "      <td>0</td>\n",
       "      <td>1</td>\n",
       "    </tr>\n",
       "    <tr>\n",
       "      <th>4</th>\n",
       "      <td>500.0</td>\n",
       "      <td>26000.0</td>\n",
       "      <td>800</td>\n",
       "      <td>677.2</td>\n",
       "      <td>6</td>\n",
       "      <td>1</td>\n",
       "    </tr>\n",
       "    <tr>\n",
       "      <th>...</th>\n",
       "      <td>...</td>\n",
       "      <td>...</td>\n",
       "      <td>...</td>\n",
       "      <td>...</td>\n",
       "      <td>...</td>\n",
       "      <td>...</td>\n",
       "    </tr>\n",
       "    <tr>\n",
       "      <th>3070</th>\n",
       "      <td>500.0</td>\n",
       "      <td>11000.0</td>\n",
       "      <td>754</td>\n",
       "      <td>585.0</td>\n",
       "      <td>7</td>\n",
       "      <td>0</td>\n",
       "    </tr>\n",
       "    <tr>\n",
       "      <th>3071</th>\n",
       "      <td>800.0</td>\n",
       "      <td>0.0</td>\n",
       "      <td>754</td>\n",
       "      <td>585.0</td>\n",
       "      <td>7</td>\n",
       "      <td>0</td>\n",
       "    </tr>\n",
       "    <tr>\n",
       "      <th>3072</th>\n",
       "      <td>800.0</td>\n",
       "      <td>20800.0</td>\n",
       "      <td>754</td>\n",
       "      <td>585.0</td>\n",
       "      <td>7</td>\n",
       "      <td>0</td>\n",
       "    </tr>\n",
       "    <tr>\n",
       "      <th>3073</th>\n",
       "      <td>1500.0</td>\n",
       "      <td>12000.0</td>\n",
       "      <td>754</td>\n",
       "      <td>585.0</td>\n",
       "      <td>7</td>\n",
       "      <td>0</td>\n",
       "    </tr>\n",
       "    <tr>\n",
       "      <th>3074</th>\n",
       "      <td>1500.0</td>\n",
       "      <td>36000.0</td>\n",
       "      <td>754</td>\n",
       "      <td>585.0</td>\n",
       "      <td>7</td>\n",
       "      <td>0</td>\n",
       "    </tr>\n",
       "  </tbody>\n",
       "</table>\n",
       "<p>3075 rows × 6 columns</p>\n",
       "</div>"
      ],
      "text/plain": [
       "      avg_amount_days  transaction_amount  daily_chbk_avg_amt  avg_chbk_amt  \\\n",
       "0               100.0              3000.0                   0           0.0   \n",
       "1               100.0              4300.0                   0           0.0   \n",
       "2               185.5              4823.0                   0           0.0   \n",
       "3               185.5              5008.5                   0           0.0   \n",
       "4               500.0             26000.0                 800         677.2   \n",
       "...               ...                 ...                 ...           ...   \n",
       "3070            500.0             11000.0                 754         585.0   \n",
       "3071            800.0                 0.0                 754         585.0   \n",
       "3072            800.0             20800.0                 754         585.0   \n",
       "3073           1500.0             12000.0                 754         585.0   \n",
       "3074           1500.0             36000.0                 754         585.0   \n",
       "\n",
       "      chbk_freq  is_fradulent  \n",
       "0             0             1  \n",
       "1             0             1  \n",
       "2             0             1  \n",
       "3             0             1  \n",
       "4             6             1  \n",
       "...         ...           ...  \n",
       "3070          7             0  \n",
       "3071          7             0  \n",
       "3072          7             0  \n",
       "3073          7             0  \n",
       "3074          7             0  \n",
       "\n",
       "[3075 rows x 6 columns]"
      ]
     },
     "execution_count": 4,
     "metadata": {},
     "output_type": "execute_result"
    }
   ],
   "source": [
    "#Rows of the Dataset\n",
    "original_data"
   ]
  },
  {
   "cell_type": "code",
   "execution_count": 5,
   "metadata": {},
   "outputs": [
    {
     "name": "stdout",
     "output_type": "stream",
     "text": [
      "<class 'pandas.core.frame.DataFrame'>\n",
      "RangeIndex: 3075 entries, 0 to 3074\n",
      "Data columns (total 6 columns):\n",
      " #   Column              Non-Null Count  Dtype  \n",
      "---  ------              --------------  -----  \n",
      " 0   avg_amount_days     3075 non-null   float64\n",
      " 1   transaction_amount  3075 non-null   float64\n",
      " 2   daily_chbk_avg_amt  3075 non-null   int64  \n",
      " 3   avg_chbk_amt        3075 non-null   float64\n",
      " 4   chbk_freq           3075 non-null   int64  \n",
      " 5   is_fradulent        3075 non-null   int64  \n",
      "dtypes: float64(3), int64(3)\n",
      "memory usage: 144.3 KB\n"
     ]
    }
   ],
   "source": [
    "# Dataset Information\n",
    "original_data.info()"
   ]
  },
  {
   "cell_type": "code",
   "execution_count": 6,
   "metadata": {},
   "outputs": [
    {
     "data": {
      "text/plain": [
       "avg_amount_days       0\n",
       "transaction_amount    0\n",
       "daily_chbk_avg_amt    0\n",
       "avg_chbk_amt          0\n",
       "chbk_freq             0\n",
       "is_fradulent          0\n",
       "dtype: int64"
      ]
     },
     "execution_count": 6,
     "metadata": {},
     "output_type": "execute_result"
    }
   ],
   "source": [
    "#Checking for NULL VALUES\n",
    "original_data.isnull().sum()"
   ]
  },
  {
   "cell_type": "code",
   "execution_count": 7,
   "metadata": {},
   "outputs": [
    {
     "data": {
      "text/plain": [
       "0    2627\n",
       "1     448\n",
       "Name: is_fradulent, dtype: int64"
      ]
     },
     "execution_count": 7,
     "metadata": {},
     "output_type": "execute_result"
    }
   ],
   "source": [
    "#Counting Fraud and Normal Transaction\n",
    "original_data[\"is_fradulent\"].value_counts()\n",
    "# 0 represents Normal Transactions\n",
    "# 1 represents Fraud Transactions"
   ]
  },
  {
   "cell_type": "code",
   "execution_count": 8,
   "metadata": {},
   "outputs": [],
   "source": [
    "# Seperating the data based on Fraud and Normal for analysis of the two\n",
    "normal = original_data[original_data.is_fradulent == 0]\n",
    "fraud = original_data[original_data.is_fradulent == 1]"
   ]
  },
  {
   "cell_type": "markdown",
   "metadata": {},
   "source": [
    "ANALYSIS OF DATA"
   ]
  },
  {
   "cell_type": "code",
   "execution_count": 9,
   "metadata": {},
   "outputs": [
    {
     "data": {
      "text/html": [
       "<div>\n",
       "<style scoped>\n",
       "    .dataframe tbody tr th:only-of-type {\n",
       "        vertical-align: middle;\n",
       "    }\n",
       "\n",
       "    .dataframe tbody tr th {\n",
       "        vertical-align: top;\n",
       "    }\n",
       "\n",
       "    .dataframe thead th {\n",
       "        text-align: right;\n",
       "    }\n",
       "</style>\n",
       "<table border=\"1\" class=\"dataframe\">\n",
       "  <thead>\n",
       "    <tr style=\"text-align: right;\">\n",
       "      <th></th>\n",
       "      <th>avg_amount_days</th>\n",
       "      <th>transaction_amount</th>\n",
       "      <th>daily_chbk_avg_amt</th>\n",
       "      <th>avg_chbk_amt</th>\n",
       "      <th>chbk_freq</th>\n",
       "    </tr>\n",
       "    <tr>\n",
       "      <th>is_fradulent</th>\n",
       "      <th></th>\n",
       "      <th></th>\n",
       "      <th></th>\n",
       "      <th></th>\n",
       "      <th></th>\n",
       "    </tr>\n",
       "  </thead>\n",
       "  <tbody>\n",
       "    <tr>\n",
       "      <th>0</th>\n",
       "      <td>512.193677</td>\n",
       "      <td>7662.995957</td>\n",
       "      <td>22.807766</td>\n",
       "      <td>15.824134</td>\n",
       "      <td>0.108108</td>\n",
       "    </tr>\n",
       "    <tr>\n",
       "      <th>1</th>\n",
       "      <td>531.637946</td>\n",
       "      <td>22855.440603</td>\n",
       "      <td>248.832589</td>\n",
       "      <td>181.917187</td>\n",
       "      <td>2.055804</td>\n",
       "    </tr>\n",
       "  </tbody>\n",
       "</table>\n",
       "</div>"
      ],
      "text/plain": [
       "              avg_amount_days  transaction_amount  daily_chbk_avg_amt  \\\n",
       "is_fradulent                                                            \n",
       "0                  512.193677         7662.995957           22.807766   \n",
       "1                  531.637946        22855.440603          248.832589   \n",
       "\n",
       "              avg_chbk_amt  chbk_freq  \n",
       "is_fradulent                           \n",
       "0                15.824134   0.108108  \n",
       "1               181.917187   2.055804  "
      ]
     },
     "execution_count": 9,
     "metadata": {},
     "output_type": "execute_result"
    }
   ],
   "source": [
    "# comparing the values for both transactions based on mean\n",
    "original_data.groupby(\"is_fradulent\").mean()"
   ]
  },
  {
   "cell_type": "code",
   "execution_count": 10,
   "metadata": {},
   "outputs": [
    {
     "name": "stdout",
     "output_type": "stream",
     "text": [
      "count     2627.000000\n",
      "mean      7662.995957\n",
      "std       6869.468187\n",
      "min          0.000000\n",
      "25%       1997.915000\n",
      "50%       5589.460000\n",
      "75%      11752.525000\n",
      "max      36000.000000\n",
      "Name: transaction_amount, dtype: float64\n",
      "count    2627.000000\n",
      "mean      512.193677\n",
      "std       286.729617\n",
      "min         4.010000\n",
      "25%       269.090000\n",
      "50%       503.780000\n",
      "75%       764.635000\n",
      "max      1500.000000\n",
      "Name: avg_amount_days, dtype: float64\n"
     ]
    }
   ],
   "source": [
    "# Description of Normal Data based on Transaction Amount\n",
    "print(normal.transaction_amount.describe())\n",
    "print(normal.avg_amount_days.describe())"
   ]
  },
  {
   "cell_type": "code",
   "execution_count": 11,
   "metadata": {},
   "outputs": [
    {
     "name": "stdout",
     "output_type": "stream",
     "text": [
      "count       448.000000\n",
      "mean      22855.440603\n",
      "std       15217.912436\n",
      "min         257.900000\n",
      "25%       11582.060000\n",
      "50%       20944.745000\n",
      "75%       32409.355000\n",
      "max      108000.000000\n",
      "Name: transaction_amount, dtype: float64\n",
      "count     448.000000\n",
      "mean      531.637946\n",
      "std       320.431608\n",
      "min         7.410000\n",
      "25%       272.562500\n",
      "50%       500.005000\n",
      "75%       775.340000\n",
      "max      2000.000000\n",
      "Name: avg_amount_days, dtype: float64\n"
     ]
    }
   ],
   "source": [
    "# Description of Fraudulent Data based on Transaction Amount\n",
    "print(fraud.transaction_amount.describe())\n",
    "print(fraud.avg_amount_days.describe())"
   ]
  },
  {
   "cell_type": "markdown",
   "metadata": {},
   "source": [
    "Splitting the dataset into Features and Targets"
   ]
  },
  {
   "cell_type": "code",
   "execution_count": 12,
   "metadata": {},
   "outputs": [],
   "source": [
    "X = original_data.drop(columns=\"is_fradulent\" , axis=1)\n",
    "Y = original_data[\"is_fradulent\"]"
   ]
  },
  {
   "cell_type": "code",
   "execution_count": 13,
   "metadata": {},
   "outputs": [
    {
     "name": "stdout",
     "output_type": "stream",
     "text": [
      "      avg_amount_days  transaction_amount  daily_chbk_avg_amt  avg_chbk_amt  \\\n",
      "0               100.0              3000.0                   0           0.0   \n",
      "1               100.0              4300.0                   0           0.0   \n",
      "2               185.5              4823.0                   0           0.0   \n",
      "3               185.5              5008.5                   0           0.0   \n",
      "4               500.0             26000.0                 800         677.2   \n",
      "...               ...                 ...                 ...           ...   \n",
      "3070            500.0             11000.0                 754         585.0   \n",
      "3071            800.0                 0.0                 754         585.0   \n",
      "3072            800.0             20800.0                 754         585.0   \n",
      "3073           1500.0             12000.0                 754         585.0   \n",
      "3074           1500.0             36000.0                 754         585.0   \n",
      "\n",
      "      chbk_freq  \n",
      "0             0  \n",
      "1             0  \n",
      "2             0  \n",
      "3             0  \n",
      "4             6  \n",
      "...         ...  \n",
      "3070          7  \n",
      "3071          7  \n",
      "3072          7  \n",
      "3073          7  \n",
      "3074          7  \n",
      "\n",
      "[3075 rows x 5 columns]\n"
     ]
    }
   ],
   "source": [
    "print(X)"
   ]
  },
  {
   "cell_type": "code",
   "execution_count": 14,
   "metadata": {},
   "outputs": [
    {
     "name": "stdout",
     "output_type": "stream",
     "text": [
      "0       1\n",
      "1       1\n",
      "2       1\n",
      "3       1\n",
      "4       1\n",
      "       ..\n",
      "3070    0\n",
      "3071    0\n",
      "3072    0\n",
      "3073    0\n",
      "3074    0\n",
      "Name: is_fradulent, Length: 3075, dtype: int64\n"
     ]
    }
   ],
   "source": [
    "print(Y)"
   ]
  },
  {
   "cell_type": "code",
   "execution_count": 15,
   "metadata": {},
   "outputs": [],
   "source": [
    "# importing the librairies for splitting the data\n",
    "from sklearn.model_selection import train_test_split"
   ]
  },
  {
   "cell_type": "code",
   "execution_count": 16,
   "metadata": {},
   "outputs": [],
   "source": [
    "# Splitting the data into training data and testing data\n",
    "x_train, x_test, y_train, y_test = train_test_split(X, Y, test_size=0.2, stratify=Y, random_state=2)"
   ]
  },
  {
   "cell_type": "code",
   "execution_count": 17,
   "metadata": {},
   "outputs": [
    {
     "name": "stdout",
     "output_type": "stream",
     "text": [
      "(3075, 5) (2460, 5) (615, 5)\n"
     ]
    }
   ],
   "source": [
    "print(X.shape, x_train.shape, x_test.shape)"
   ]
  },
  {
   "cell_type": "markdown",
   "metadata": {},
   "source": [
    "MODEL TRAINING with Logistic Regression"
   ]
  },
  {
   "cell_type": "code",
   "execution_count": 18,
   "metadata": {},
   "outputs": [],
   "source": [
    "# importing the libraries for training the model\n",
    "from sklearn.linear_model import LogisticRegression"
   ]
  },
  {
   "cell_type": "code",
   "execution_count": 19,
   "metadata": {},
   "outputs": [],
   "source": [
    "model = LogisticRegression()"
   ]
  },
  {
   "cell_type": "code",
   "execution_count": 20,
   "metadata": {},
   "outputs": [
    {
     "name": "stderr",
     "output_type": "stream",
     "text": [
      "C:\\Users\\agarw\\anaconda3\\lib\\site-packages\\sklearn\\linear_model\\_logistic.py:763: ConvergenceWarning: lbfgs failed to converge (status=1):\n",
      "STOP: TOTAL NO. of ITERATIONS REACHED LIMIT.\n",
      "\n",
      "Increase the number of iterations (max_iter) or scale the data as shown in:\n",
      "    https://scikit-learn.org/stable/modules/preprocessing.html\n",
      "Please also refer to the documentation for alternative solver options:\n",
      "    https://scikit-learn.org/stable/modules/linear_model.html#logistic-regression\n",
      "  n_iter_i = _check_optimize_result(\n"
     ]
    },
    {
     "data": {
      "text/plain": [
       "LogisticRegression()"
      ]
     },
     "execution_count": 20,
     "metadata": {},
     "output_type": "execute_result"
    }
   ],
   "source": [
    "# training the model with logistic regression\n",
    "model.fit(x_train,y_train)"
   ]
  }
 ],
 "metadata": {
  "kernelspec": {
   "display_name": "Python 3 (ipykernel)",
   "language": "python",
   "name": "python3"
  },
  "language_info": {
   "codemirror_mode": {
    "name": "ipython",
    "version": 3
   },
   "file_extension": ".py",
   "mimetype": "text/x-python",
   "name": "python",
   "nbconvert_exporter": "python",
   "pygments_lexer": "ipython3",
   "version": "3.9.7"
  },
  "vscode": {
   "interpreter": {
    "hash": "161d7e907f7f83873394c919e50d3db0b60103f075c693805b5bc09243f9eae7"
   }
  }
 },
 "nbformat": 4,
 "nbformat_minor": 2
}
